{
 "cells": [
  {
   "cell_type": "markdown",
   "metadata": {},
   "source": [
    "#   <center>Machine Learning Engineer Nanodegree</center>\n",
    "##   <center>Project: Dogs vs. Cats Redux: Kernels Edition</center>\n",
    "<center>\n",
    "Author: Kyle Chen<br>\n",
    "Date: 20180506<br>\n",
    "Version: 20180506v1\n",
    "</center>\n",
    "\n",
    "---\n",
    "\n",
    "###   写在前面\n",
    "-   这次的毕业项目选做猫狗, 一方面是因为资料比较多, 资源比较丰富. 另外一方面, 图形识别也是当下的一大热点. 虽然毕业后可能会继续从事传统机器学习方面的研究, 但是能够有这段经历还是很不错的, 也能丰富自己的简历与深度学习的知识.\n",
    "-   在这个项目中, 将通过评估几种模型与不同程度的调优, 来不断优化我们的模型框架, 以达到最终的top 10%标准.\n",
    "\n",
    "###   准备数据\n",
    "-   本文中的DataSet是已经从kaggle上拖取到本地, 并放入当前工作目录中, 但是由于Github的大小限制, 如果你想要执行并研究其中的一些代码, 请自行准备好数据集, 并存放到./DataSet目录下. kaggle传送门 <a href='https://www.kaggle.com/c/dogs-vs-cats-redux-kernels-edition/data'>dogs-vs-cats-redux-kernels-edition/data</a>.\n",
    "-   或者你可以直接运行下框的代码创建目录结构与拖取数据."
   ]
  },
  {
   "cell_type": "code",
   "execution_count": null,
   "metadata": {},
   "outputs": [],
   "source": [
    "# 如果你已经拖取了数据, 请勿执行此代码框中的代码\n",
    "!mkdir DataSet\n",
    "!mkdir saved_models\n",
    "!wget -c \"https://storage.googleapis.com/kaggle-competitions-data/kaggle/5441/train.zip?GoogleAccessId=web-data@kaggle-161607.iam.gserviceaccount.com&Expires=1526177720&Signature=CQ9z7GqLC5d%2BCuALIgPLIleOgpbls6dKQW6ykh8NBnaoiM%2F7MRC3dDSgiQWj5xxIr%2FHK4JXtCvBY75hLX4B2q9AW2c3l2r3z2IJpvb%2BeB0MXF7dO%2Fzbm0OmXNopMcI4wjdZYDLQuX5Sy69%2Fjc2W7rYohuo0QOT0vfofeHTEN3dmrwCkcPX7AZ3c2L1ByA%2FNnZtSGGGLGxLgNsYjQlZJNziM78RS0AQ5ztJUrQhEg8EevxPESN5lVZfvJOfNsP21%2FGOJOPWcllCyqqxPqv79l0WliatTG%2FMR1BfZ14bgX2f%2BEJ7b6W3omGpM7XRcBOm4vDvWclgivzwB2Dr7Xt7r7uw%3D%3D\" -O DataSet/train.zip\n",
    "!wget -c \"https://storage.googleapis.com/kaggle-competitions-data/kaggle/5441/test.zip?GoogleAccessId=web-data@kaggle-161607.iam.gserviceaccount.com&Expires=1526177716&Signature=fHMWZ8zBkV0INrI2yVneHug3MdeZgjN2ViuucdAO7drp6iUQRZd09p3XzYL4tOy6sRL9syVk%2BSh1bf3V1qbB%2F1DAp%2BWK89GuiSHzeq0iUYi%2B8ylbUQtN2M7mQX2qsMMMr4b4bDIzOKqTkuYG8XzSQcEZWchY%2FoIHIDJjmm6nmJuu%2Bj%2F6K3jmaiL%2FnnJt1%2Firaa7l3Gys%2F4QxL9UaT6Lm%2BklbrnBqZR%2BX%2BdUMDPBXxhnBFbBQWB5ffECa50i8FKcJVtf1BO5u7Bolnx7EIwigCRsJO0gn%2BSvTLCKZYfSHuBdP2WLiSLJQXjPNjGZHx3tc8P9WEeHcQXvgdkXBRHqHVw%3D%3D\" -O DataSet/test.zip\n",
    "!wget -c \"https://storage.googleapis.com/kaggle-competitions-data/kaggle/5441/sample_submission.csv?GoogleAccessId=web-data@kaggle-161607.iam.gserviceaccount.com&Expires=1526177711&Signature=P4cytvkXEgVM4tIUHsSr%2FhxsnUwC86EWXe0gYNuI%2Bu1Eyp7prfzCVZNPvnJ2VSidXKlxhQgtRrvyGjWcSXucimeWUzbErWhm0Wz%2BNVRDoPdxzhGhv1uT0eF1D81iemBurPEXD3b5q3glI1TJfRJEc3P3u2ObzPAsQrxuz76gm9ei2dnsUiweKNv2qPpr%2FogfaxI4EKtICdKkw33CMR%2FhBXZimr0L3Vs625AOj6HrfbGMTS2x8SiL48VAGLU%2BDhfOfoB0wJirHQogzHH7u0RKmcZJhqX9jP3UW3My1pevB3eIh8GND8xPQBlsJgJ3qJ7VMeMMTiyVctcb1B52EZ88Qw%3D%3D\" -O DataSet/sample_submission.csv\n",
    "!unzip DataSet/train.zip -d DataSet/\n",
    "!unzip DataSet/test.zip -d DataSet/"
   ]
  },
  {
   "cell_type": "markdown",
   "metadata": {},
   "source": [
    "###   关于DataSet\n",
    "-   先了解下数据集的组成."
   ]
  },
  {
   "cell_type": "code",
   "execution_count": 13,
   "metadata": {},
   "outputs": [
    {
     "name": "stdout",
     "output_type": "stream",
     "text": [
      "total 816M\r\n",
      "drwxr-xr-x 4 root root 4.0K May 10 12:18 .\r\n",
      "drwxr-xr-x 6 root root 4.0K May 10 12:18 ..\r\n",
      "-rw-r--r-- 1 root root 112K Jun  8  2017 sample_submission.csv\r\n",
      "drwxr-xr-x 2 root root 276K Sep 20  2013 test\r\n",
      "-rw-r--r-- 1 root root 272M Jun  8  2017 test.zip\r\n",
      "drwxr-xr-x 2 root root 740K Sep 20  2013 train\r\n",
      "-rw-r--r-- 1 root root 544M Jun  8  2017 train.zip\r\n"
     ]
    }
   ],
   "source": [
    "!ls -ahl DataSet/"
   ]
  },
  {
   "cell_type": "markdown",
   "metadata": {},
   "source": [
    "-   test目录下存放的是kaggle准备好的测试集.\n",
    "-   train目录下存放的是训练集, 当然, 还需要将其细分为训练集与验证集两个部分."
   ]
  },
  {
   "cell_type": "code",
   "execution_count": 14,
   "metadata": {},
   "outputs": [
    {
     "name": "stdout",
     "output_type": "stream",
     "text": [
      "total 595M\n",
      "drwxr-xr-x 2 root root 740K Sep 20  2013 .\n",
      "drwxr-xr-x 4 root root 4.0K May 10 12:18 ..\n",
      "-rw-r--r-- 1 root root  13K Sep 20  2013 cat.0.jpg\n",
      "-rw-r--r-- 1 root root  22K Sep 20  2013 cat.10000.jpg\n",
      "ls: write error: Broken pipe\n"
     ]
    }
   ],
   "source": [
    "!ls -ahl DataSet/train/ | head -n 5"
   ]
  },
  {
   "cell_type": "markdown",
   "metadata": {},
   "source": [
    "-   发现数据集命名是有规则的, 遵循label.n.jpg的原则."
   ]
  },
  {
   "cell_type": "code",
   "execution_count": 16,
   "metadata": {},
   "outputs": [
    {
     "name": "stdout",
     "output_type": "stream",
     "text": [
      "cats | 12500\n",
      "dogs | 12500\n"
     ]
    }
   ],
   "source": [
    "!echo \"cats | $(find DataSet/train/ -name 'cat*' | wc -l)\"\n",
    "!echo \"dogs | $(find DataSet/train/ -name 'dog*' | wc -l)\""
   ]
  },
  {
   "cell_type": "markdown",
   "metadata": {},
   "source": [
    "-   发现cats/dogs样本类型分布均匀.\n",
    "-   大致过了一遍数据集里面的数据之后, 有几个异常值需要删除的."
   ]
  },
  {
   "cell_type": "code",
   "execution_count": 17,
   "metadata": {},
   "outputs": [],
   "source": [
    "!rm -rf DataSet/train/cat.7377.jpg DataSet/train/cat.4085.jpg"
   ]
  },
  {
   "cell_type": "markdown",
   "metadata": {},
   "source": [
    "###   Import Libs"
   ]
  },
  {
   "cell_type": "code",
   "execution_count": 18,
   "metadata": {},
   "outputs": [],
   "source": [
    "# 导入我们后面需要用到的库\n",
    "import os\n",
    "import re\n",
    "import cv2\n",
    "import h5py\n",
    "import numpy as np\n",
    "import pandas as pd           \n",
    "from PIL import Image\n",
    "import matplotlib.pyplot as plt\n",
    "from sklearn.utils import shuffle\n",
    "from keras.applications import xception\n",
    "from keras.layers import Conv2D, MaxPooling2D, GlobalAveragePooling2D, Lambda\n",
    "from keras.layers import Input, Dropout, Flatten, Dense, BatchNormalization\n",
    "from keras.models import Sequential, Model\n",
    "from keras.callbacks import ModelCheckpoint\n",
    "from keras.applications.xception import Xception\n",
    "from keras.preprocessing.image import ImageDataGenerator\n",
    "%matplotlib inline   "
   ]
  },
  {
   "cell_type": "markdown",
   "metadata": {},
   "source": [
    "###   Initial Global Variables"
   ]
  },
  {
   "cell_type": "code",
   "execution_count": 19,
   "metadata": {},
   "outputs": [],
   "source": [
    "# initial global variables\n",
    "TRAIN_DIR = 'DataSet/train'\n",
    "TEST_DIR = 'DataSet/test'\n",
    "TRANSFER_DIR = 'DataSet/transfer'\n",
    "TRANSFER_TRAIN_DIR = 'DataSet/transfer/train'\n",
    "TRANSFER_TEST_DIR = 'DataSet/transfer/test'\n",
    "RESULT_SAMP = 'DataSet/sample_submission.csv'\n",
    "RESULT_FILE = 'DataSet/result.csv'\n",
    "np.random.seed(2018)"
   ]
  },
  {
   "cell_type": "markdown",
   "metadata": {},
   "source": [
    "###   导入数据集"
   ]
  },
  {
   "cell_type": "markdown",
   "metadata": {},
   "source": [
    "-   读取数据与分类信息"
   ]
  },
  {
   "cell_type": "code",
   "execution_count": 20,
   "metadata": {},
   "outputs": [],
   "source": [
    "# load data from TRAIN_DIR\n",
    "def load_data(width, height, channels):\n",
    "    img_list = os.listdir(TRAIN_DIR)\n",
    "    nums = len(img_list)\n",
    "    data = np.empty((nums, width, height, channels), dtype=\"float32\")\n",
    "    label = np.empty((nums, ))\n",
    "    \n",
    "    i = 0\n",
    "    while i < nums:\n",
    "        img = img_list[i]\n",
    "        imgObj = Image.open(\"{}/{}\".format(TRAIN_DIR, img))\n",
    "        arr = np.asarray(imgObj, dtype=\"float32\")\n",
    "        arr.resize((width, height, channels))\n",
    "        data[i, :, :, :] = arr\n",
    "        \n",
    "        if re.match(r'^cat\\.', img) != None:\n",
    "            label[i] = 0\n",
    "            \n",
    "        elif re.match(r'^dog\\.', img) != None:\n",
    "            label[i] = 1            \n",
    "        i += 1\n",
    "    return(data, label)"
   ]
  },
  {
   "cell_type": "markdown",
   "metadata": {},
   "source": [
    "###   CNN模型框架\n",
    "-   Load数据"
   ]
  },
  {
   "cell_type": "code",
   "execution_count": 21,
   "metadata": {},
   "outputs": [],
   "source": [
    "# run load data\n",
    "data, label = load_data(224, 224, 3)\n",
    "data, label = shuffle(data, label)"
   ]
  },
  {
   "cell_type": "markdown",
   "metadata": {},
   "source": [
    "-   数据可视化"
   ]
  },
  {
   "cell_type": "code",
   "execution_count": 22,
   "metadata": {},
   "outputs": [
    {
     "data": {
      "image/png": "[encoded data removed]",
      "text/plain": [
       "<Figure size 432x288 with 1 Axes>"
      ]
     },
     "metadata": {},
     "output_type": "display_data"
    }
   ],
   "source": [
    "cat_counts = sum([ 1 for x in label if x == 0 ])\n",
    "dog_counts = sum([ 1 for x in label if x == 0 ])\n",
    "plt.bar(['cat_counts', 'dog_counts'], [cat_counts, dog_counts])\n",
    "plt.xlabel('Types')\n",
    "plt.ylabel('Counts')\n",
    "plt.show()"
   ]
  },
  {
   "cell_type": "markdown",
   "metadata": {},
   "source": [
    "-   CNN模型设计"
   ]
  },
  {
   "cell_type": "code",
   "execution_count": 23,
   "metadata": {},
   "outputs": [
    {
     "name": "stdout",
     "output_type": "stream",
     "text": [
      "_________________________________________________________________\n",
      "Layer (type)                 Output Shape              Param #   \n",
      "=================================================================\n",
      "conv2d_4 (Conv2D)            (None, 223, 223, 16)      208       \n",
      "_________________________________________________________________\n",
      "batch_normalization_2 (Batch (None, 223, 223, 16)      64        \n",
      "_________________________________________________________________\n",
      "max_pooling2d_4 (MaxPooling2 (None, 111, 111, 16)      0         \n",
      "_________________________________________________________________\n",
      "dense_4 (Dense)              (None, 111, 111, 133)     2261      \n",
      "_________________________________________________________________\n",
      "conv2d_5 (Conv2D)            (None, 110, 110, 32)      17056     \n",
      "_________________________________________________________________\n",
      "max_pooling2d_5 (MaxPooling2 (None, 55, 55, 32)        0         \n",
      "_________________________________________________________________\n",
      "dense_5 (Dense)              (None, 55, 55, 133)       4389      \n",
      "_________________________________________________________________\n",
      "conv2d_6 (Conv2D)            (None, 54, 54, 64)        34112     \n",
      "_________________________________________________________________\n",
      "max_pooling2d_6 (MaxPooling2 (None, 27, 27, 64)        0         \n",
      "_________________________________________________________________\n",
      "global_average_pooling2d_2 ( (None, 64)                0         \n",
      "_________________________________________________________________\n",
      "dense_6 (Dense)              (None, 1)                 65        \n",
      "=================================================================\n",
      "Total params: 58,155\n",
      "Trainable params: 58,123\n",
      "Non-trainable params: 32\n",
      "_________________________________________________________________\n"
     ]
    },
    {
     "name": "stderr",
     "output_type": "stream",
     "text": [
      "/usr/local/lib/python3.5/dist-packages/ipykernel_launcher.py:12: UserWarning: Update your `GlobalAveragePooling2D` call to the Keras 2 API: `GlobalAveragePooling2D(data_format=None)`\n",
      "  if sys.path[0] == '':\n"
     ]
    }
   ],
   "source": [
    "cnn_model = Sequential()\n",
    "shape_input = (len(data[0]), len(data[0][0]), len(data[0][0][0]))\n",
    "cnn_model.add(Conv2D(filters=16, kernel_size=2, input_shape=shape_input))\n",
    "cnn_model.add(BatchNormalization())\n",
    "cnn_model.add(MaxPooling2D(pool_size=2, padding='valid'))\n",
    "cnn_model.add(Dense(133, activation='relu'))\n",
    "cnn_model.add(Conv2D(filters=32, kernel_size=2))\n",
    "cnn_model.add(MaxPooling2D(pool_size=2, padding='valid'))\n",
    "cnn_model.add(Dense(133, activation='relu'))\n",
    "cnn_model.add(Conv2D(filters=64, kernel_size=2))\n",
    "cnn_model.add(MaxPooling2D(pool_size=2, padding='valid'))\n",
    "cnn_model.add(GlobalAveragePooling2D(dim_ordering='default'))\n",
    "cnn_model.add(Dense(1, activation='sigmoid'))\n",
    "cnn_model.summary()"
   ]
  },
  {
   "cell_type": "markdown",
   "metadata": {},
   "source": [
    "-   编译模型"
   ]
  },
  {
   "cell_type": "code",
   "execution_count": 24,
   "metadata": {},
   "outputs": [],
   "source": [
    "# 编译模型\n",
    "# 在keras中, 提供binary_crossentropy函数, 就是我们需要的LogLoss\n",
    "cnn_model.compile(optimizer='rmsprop', loss='binary_crossentropy', metrics=['accuracy'])"
   ]
  },
  {
   "cell_type": "markdown",
   "metadata": {},
   "source": [
    "-   训练CNN模型"
   ]
  },
  {
   "cell_type": "code",
   "execution_count": 25,
   "metadata": {},
   "outputs": [
    {
     "name": "stdout",
     "output_type": "stream",
     "text": [
      "Train on 17498 samples, validate on 7500 samples\n",
      "Epoch 1/10\n",
      "17498/17498 [==============================] - 47s 3ms/step - loss: 0.6797 - acc: 0.5686 - val_loss: 0.7046 - val_acc: 0.5308\n",
      "\n",
      "Epoch 00001: val_loss improved from inf to 0.70461, saving model to saved_models/weights.best.cnn.hdf5\n",
      "Epoch 2/10\n",
      "17498/17498 [==============================] - 46s 3ms/step - loss: 0.6610 - acc: 0.6006 - val_loss: 0.6678 - val_acc: 0.5719\n",
      "\n",
      "Epoch 00002: val_loss improved from 0.70461 to 0.66777, saving model to saved_models/weights.best.cnn.hdf5\n",
      "Epoch 3/10\n",
      "17498/17498 [==============================] - 46s 3ms/step - loss: 0.6511 - acc: 0.6176 - val_loss: 0.7008 - val_acc: 0.5469\n",
      "\n",
      "Epoch 00003: val_loss did not improve from 0.66777\n",
      "Epoch 4/10\n",
      "17498/17498 [==============================] - 46s 3ms/step - loss: 0.6443 - acc: 0.6200 - val_loss: 0.6337 - val_acc: 0.6473\n",
      "\n",
      "Epoch 00004: val_loss improved from 0.66777 to 0.63373, saving model to saved_models/weights.best.cnn.hdf5\n",
      "Epoch 5/10\n",
      "17498/17498 [==============================] - 46s 3ms/step - loss: 0.6393 - acc: 0.6284 - val_loss: 0.6301 - val_acc: 0.6404\n",
      "\n",
      "Epoch 00005: val_loss improved from 0.63373 to 0.63006, saving model to saved_models/weights.best.cnn.hdf5\n",
      "Epoch 6/10\n",
      "17498/17498 [==============================] - 46s 3ms/step - loss: 0.6343 - acc: 0.6288 - val_loss: 0.7285 - val_acc: 0.5493\n",
      "\n",
      "Epoch 00006: val_loss did not improve from 0.63006\n",
      "Epoch 7/10\n",
      "17498/17498 [==============================] - 46s 3ms/step - loss: 0.6285 - acc: 0.6402 - val_loss: 0.6492 - val_acc: 0.6129\n",
      "\n",
      "Epoch 00007: val_loss did not improve from 0.63006\n",
      "Epoch 8/10\n",
      "17498/17498 [==============================] - 46s 3ms/step - loss: 0.6255 - acc: 0.6424 - val_loss: 0.6221 - val_acc: 0.6557\n",
      "\n",
      "Epoch 00008: val_loss improved from 0.63006 to 0.62212, saving model to saved_models/weights.best.cnn.hdf5\n",
      "Epoch 9/10\n",
      "17498/17498 [==============================] - 46s 3ms/step - loss: 0.6233 - acc: 0.6450 - val_loss: 0.6262 - val_acc: 0.6527\n",
      "\n",
      "Epoch 00009: val_loss did not improve from 0.62212\n",
      "Epoch 10/10\n",
      "17498/17498 [==============================] - 46s 3ms/step - loss: 0.6194 - acc: 0.6465 - val_loss: 0.6172 - val_acc: 0.6637\n",
      "\n",
      "Epoch 00010: val_loss improved from 0.62212 to 0.61720, saving model to saved_models/weights.best.cnn.hdf5\n"
     ]
    }
   ],
   "source": [
    "# 这里在8c 16g的mbpr上跑了差不多两个半小时\n",
    "# 12c 60g P100跑了两分钟\n",
    "epochs = 10\n",
    "batch_size = 128\n",
    "checkpointer = ModelCheckpoint(filepath='saved_models/weights.best.cnn.hdf5', \n",
    "                                   verbose=1, save_best_only=True)\n",
    "hist_cnn = cnn_model.fit(data, label, validation_split = 0.3,\n",
    "                epochs = epochs, batch_size = batch_size,\n",
    "                callbacks=[checkpointer], verbose=1)"
   ]
  },
  {
   "cell_type": "markdown",
   "metadata": {},
   "source": [
    "-   学习曲线"
   ]
  },
  {
   "cell_type": "code",
   "execution_count": 51,
   "metadata": {},
   "outputs": [
    {
     "data": {
      "image/png": "[encoded data removed]",
      "text/plain": [
       "<Figure size 432x288 with 1 Axes>"
      ]
     },
     "metadata": {},
     "output_type": "display_data"
    }
   ],
   "source": [
    "# val_loss学习曲线\n",
    "plt.plot(hist_cnn.history['val_loss'])\n",
    "plt.xlabel('Times')\n",
    "plt.ylabel('Val_Loss')\n",
    "plt.show()"
   ]
  },
  {
   "cell_type": "markdown",
   "metadata": {},
   "source": [
    "-   这里可以发现, 用CNN优化之后, 还是在0.63894. LogLoss没有太大的提升."
   ]
  },
  {
   "cell_type": "markdown",
   "metadata": {},
   "source": [
    "###   使用Xception\n",
    "-   将train下的数据分类至transfer目录下"
   ]
  },
  {
   "cell_type": "code",
   "execution_count": 27,
   "metadata": {},
   "outputs": [],
   "source": [
    "# 将train下的数据分类并拷贝至transfer/train/{cat,dog}, test拷贝至DataSet/transfer/test/pic/目录下\n",
    "!mkdir DataSet/transfer/train/cat -p\n",
    "!mkdir DataSet/transfer/train/dog\n",
    "!mkdir DataSet/transfer/test/pic -p\n",
    "!find DataSet/train -name 'cat.*' -exec cp -rf {} DataSet/transfer/train/cat/ \\;\n",
    "!find DataSet/train -name 'dog.*' -exec cp -rf {} DataSet/transfer/train/dog/ \\;\n",
    "!find DataSet/test -name '*.jpg' -exec cp -rf {} DataSet/transfer/test/pic/ \\;"
   ]
  },
  {
   "cell_type": "markdown",
   "metadata": {},
   "source": [
    "-   加载数据"
   ]
  },
  {
   "cell_type": "code",
   "execution_count": 28,
   "metadata": {},
   "outputs": [
    {
     "name": "stdout",
     "output_type": "stream",
     "text": [
      "Found 24998 images belonging to 2 classes.\n",
      "Found 12500 images belonging to 1 classes.\n"
     ]
    }
   ],
   "source": [
    "# run load data, change size to Xception default (299,299)\n",
    "img_size = (299, 299)\n",
    "gen = ImageDataGenerator()\n",
    "X_train_gen = gen.flow_from_directory(TRANSFER_TRAIN_DIR, img_size, shuffle = False, \n",
    "                                        batch_size = 16)\n",
    "X_test_gen = gen.flow_from_directory(TRANSFER_TEST_DIR, img_size, shuffle = False, \n",
    "                                        batch_size = 16, classes = None)"
   ]
  },
  {
   "cell_type": "markdown",
   "metadata": {},
   "source": [
    "-   训练模型设计"
   ]
  },
  {
   "cell_type": "code",
   "execution_count": 29,
   "metadata": {},
   "outputs": [
    {
     "name": "stdout",
     "output_type": "stream",
     "text": [
      "__________________________________________________________________________________________________\n",
      "Layer (type)                    Output Shape         Param #     Connected to                     \n",
      "==================================================================================================\n",
      "input_1 (InputLayer)            (None, 299, 299, 3)  0                                            \n",
      "__________________________________________________________________________________________________\n",
      "lambda_1 (Lambda)               (None, 299, 299, 3)  0           input_1[0][0]                    \n",
      "__________________________________________________________________________________________________\n",
      "block1_conv1 (Conv2D)           (None, 149, 149, 32) 864         lambda_1[0][0]                   \n",
      "__________________________________________________________________________________________________\n",
      "block1_conv1_bn (BatchNormaliza (None, 149, 149, 32) 128         block1_conv1[0][0]               \n",
      "__________________________________________________________________________________________________\n",
      "block1_conv1_act (Activation)   (None, 149, 149, 32) 0           block1_conv1_bn[0][0]            \n",
      "__________________________________________________________________________________________________\n",
      "block1_conv2 (Conv2D)           (None, 147, 147, 64) 18432       block1_conv1_act[0][0]           \n",
      "__________________________________________________________________________________________________\n",
      "block1_conv2_bn (BatchNormaliza (None, 147, 147, 64) 256         block1_conv2[0][0]               \n",
      "__________________________________________________________________________________________________\n",
      "block1_conv2_act (Activation)   (None, 147, 147, 64) 0           block1_conv2_bn[0][0]            \n",
      "__________________________________________________________________________________________________\n",
      "block2_sepconv1 (SeparableConv2 (None, 147, 147, 128 8768        block1_conv2_act[0][0]           \n",
      "__________________________________________________________________________________________________\n",
      "block2_sepconv1_bn (BatchNormal (None, 147, 147, 128 512         block2_sepconv1[0][0]            \n",
      "__________________________________________________________________________________________________\n",
      "block2_sepconv2_act (Activation (None, 147, 147, 128 0           block2_sepconv1_bn[0][0]         \n",
      "__________________________________________________________________________________________________\n",
      "block2_sepconv2 (SeparableConv2 (None, 147, 147, 128 17536       block2_sepconv2_act[0][0]        \n",
      "__________________________________________________________________________________________________\n",
      "block2_sepconv2_bn (BatchNormal (None, 147, 147, 128 512         block2_sepconv2[0][0]            \n",
      "__________________________________________________________________________________________________\n",
      "conv2d_7 (Conv2D)               (None, 74, 74, 128)  8192        block1_conv2_act[0][0]           \n",
      "__________________________________________________________________________________________________\n",
      "block2_pool (MaxPooling2D)      (None, 74, 74, 128)  0           block2_sepconv2_bn[0][0]         \n",
      "__________________________________________________________________________________________________\n",
      "batch_normalization_3 (BatchNor (None, 74, 74, 128)  512         conv2d_7[0][0]                   \n",
      "__________________________________________________________________________________________________\n",
      "add_1 (Add)                     (None, 74, 74, 128)  0           block2_pool[0][0]                \n",
      "                                                                 batch_normalization_3[0][0]      \n",
      "__________________________________________________________________________________________________\n",
      "block3_sepconv1_act (Activation (None, 74, 74, 128)  0           add_1[0][0]                      \n",
      "__________________________________________________________________________________________________\n",
      "block3_sepconv1 (SeparableConv2 (None, 74, 74, 256)  33920       block3_sepconv1_act[0][0]        \n",
      "__________________________________________________________________________________________________\n",
      "block3_sepconv1_bn (BatchNormal (None, 74, 74, 256)  1024        block3_sepconv1[0][0]            \n",
      "__________________________________________________________________________________________________\n",
      "block3_sepconv2_act (Activation (None, 74, 74, 256)  0           block3_sepconv1_bn[0][0]         \n",
      "__________________________________________________________________________________________________\n",
      "block3_sepconv2 (SeparableConv2 (None, 74, 74, 256)  67840       block3_sepconv2_act[0][0]        \n",
      "__________________________________________________________________________________________________\n",
      "block3_sepconv2_bn (BatchNormal (None, 74, 74, 256)  1024        block3_sepconv2[0][0]            \n",
      "__________________________________________________________________________________________________\n",
      "conv2d_8 (Conv2D)               (None, 37, 37, 256)  32768       add_1[0][0]                      \n",
      "__________________________________________________________________________________________________\n",
      "block3_pool (MaxPooling2D)      (None, 37, 37, 256)  0           block3_sepconv2_bn[0][0]         \n",
      "__________________________________________________________________________________________________\n",
      "batch_normalization_4 (BatchNor (None, 37, 37, 256)  1024        conv2d_8[0][0]                   \n",
      "__________________________________________________________________________________________________\n",
      "add_2 (Add)                     (None, 37, 37, 256)  0           block3_pool[0][0]                \n",
      "                                                                 batch_normalization_4[0][0]      \n",
      "__________________________________________________________________________________________________\n",
      "block4_sepconv1_act (Activation (None, 37, 37, 256)  0           add_2[0][0]                      \n",
      "__________________________________________________________________________________________________\n",
      "block4_sepconv1 (SeparableConv2 (None, 37, 37, 728)  188672      block4_sepconv1_act[0][0]        \n",
      "__________________________________________________________________________________________________\n",
      "block4_sepconv1_bn (BatchNormal (None, 37, 37, 728)  2912        block4_sepconv1[0][0]            \n",
      "__________________________________________________________________________________________________\n",
      "block4_sepconv2_act (Activation (None, 37, 37, 728)  0           block4_sepconv1_bn[0][0]         \n",
      "__________________________________________________________________________________________________\n",
      "block4_sepconv2 (SeparableConv2 (None, 37, 37, 728)  536536      block4_sepconv2_act[0][0]        \n",
      "__________________________________________________________________________________________________\n",
      "block4_sepconv2_bn (BatchNormal (None, 37, 37, 728)  2912        block4_sepconv2[0][0]            \n",
      "__________________________________________________________________________________________________\n",
      "conv2d_9 (Conv2D)               (None, 19, 19, 728)  186368      add_2[0][0]                      \n",
      "__________________________________________________________________________________________________\n",
      "block4_pool (MaxPooling2D)      (None, 19, 19, 728)  0           block4_sepconv2_bn[0][0]         \n",
      "__________________________________________________________________________________________________\n",
      "batch_normalization_5 (BatchNor (None, 19, 19, 728)  2912        conv2d_9[0][0]                   \n",
      "__________________________________________________________________________________________________\n",
      "add_3 (Add)                     (None, 19, 19, 728)  0           block4_pool[0][0]                \n",
      "                                                                 batch_normalization_5[0][0]      \n",
      "__________________________________________________________________________________________________\n",
      "block5_sepconv1_act (Activation (None, 19, 19, 728)  0           add_3[0][0]                      \n",
      "__________________________________________________________________________________________________\n",
      "block5_sepconv1 (SeparableConv2 (None, 19, 19, 728)  536536      block5_sepconv1_act[0][0]        \n",
      "__________________________________________________________________________________________________\n",
      "block5_sepconv1_bn (BatchNormal (None, 19, 19, 728)  2912        block5_sepconv1[0][0]            \n",
      "__________________________________________________________________________________________________\n",
      "block5_sepconv2_act (Activation (None, 19, 19, 728)  0           block5_sepconv1_bn[0][0]         \n",
      "__________________________________________________________________________________________________\n",
      "block5_sepconv2 (SeparableConv2 (None, 19, 19, 728)  536536      block5_sepconv2_act[0][0]        \n",
      "__________________________________________________________________________________________________\n",
      "block5_sepconv2_bn (BatchNormal (None, 19, 19, 728)  2912        block5_sepconv2[0][0]            \n",
      "__________________________________________________________________________________________________\n",
      "block5_sepconv3_act (Activation (None, 19, 19, 728)  0           block5_sepconv2_bn[0][0]         \n",
      "__________________________________________________________________________________________________\n",
      "block5_sepconv3 (SeparableConv2 (None, 19, 19, 728)  536536      block5_sepconv3_act[0][0]        \n",
      "__________________________________________________________________________________________________\n",
      "block5_sepconv3_bn (BatchNormal (None, 19, 19, 728)  2912        block5_sepconv3[0][0]            \n",
      "__________________________________________________________________________________________________\n",
      "add_4 (Add)                     (None, 19, 19, 728)  0           block5_sepconv3_bn[0][0]         \n",
      "                                                                 add_3[0][0]                      \n",
      "__________________________________________________________________________________________________\n",
      "block6_sepconv1_act (Activation (None, 19, 19, 728)  0           add_4[0][0]                      \n",
      "__________________________________________________________________________________________________\n",
      "block6_sepconv1 (SeparableConv2 (None, 19, 19, 728)  536536      block6_sepconv1_act[0][0]        \n",
      "__________________________________________________________________________________________________\n",
      "block6_sepconv1_bn (BatchNormal (None, 19, 19, 728)  2912        block6_sepconv1[0][0]            \n",
      "__________________________________________________________________________________________________\n",
      "block6_sepconv2_act (Activation (None, 19, 19, 728)  0           block6_sepconv1_bn[0][0]         \n",
      "__________________________________________________________________________________________________\n",
      "block6_sepconv2 (SeparableConv2 (None, 19, 19, 728)  536536      block6_sepconv2_act[0][0]        \n",
      "__________________________________________________________________________________________________\n",
      "block6_sepconv2_bn (BatchNormal (None, 19, 19, 728)  2912        block6_sepconv2[0][0]            \n",
      "__________________________________________________________________________________________________\n",
      "block6_sepconv3_act (Activation (None, 19, 19, 728)  0           block6_sepconv2_bn[0][0]         \n",
      "__________________________________________________________________________________________________\n",
      "block6_sepconv3 (SeparableConv2 (None, 19, 19, 728)  536536      block6_sepconv3_act[0][0]        \n",
      "__________________________________________________________________________________________________\n",
      "block6_sepconv3_bn (BatchNormal (None, 19, 19, 728)  2912        block6_sepconv3[0][0]            \n",
      "__________________________________________________________________________________________________\n",
      "add_5 (Add)                     (None, 19, 19, 728)  0           block6_sepconv3_bn[0][0]         \n",
      "                                                                 add_4[0][0]                      \n",
      "__________________________________________________________________________________________________\n",
      "block7_sepconv1_act (Activation (None, 19, 19, 728)  0           add_5[0][0]                      \n",
      "__________________________________________________________________________________________________\n",
      "block7_sepconv1 (SeparableConv2 (None, 19, 19, 728)  536536      block7_sepconv1_act[0][0]        \n",
      "__________________________________________________________________________________________________\n",
      "block7_sepconv1_bn (BatchNormal (None, 19, 19, 728)  2912        block7_sepconv1[0][0]            \n",
      "__________________________________________________________________________________________________\n",
      "block7_sepconv2_act (Activation (None, 19, 19, 728)  0           block7_sepconv1_bn[0][0]         \n",
      "__________________________________________________________________________________________________\n",
      "block7_sepconv2 (SeparableConv2 (None, 19, 19, 728)  536536      block7_sepconv2_act[0][0]        \n",
      "__________________________________________________________________________________________________\n",
      "block7_sepconv2_bn (BatchNormal (None, 19, 19, 728)  2912        block7_sepconv2[0][0]            \n",
      "__________________________________________________________________________________________________\n",
      "block7_sepconv3_act (Activation (None, 19, 19, 728)  0           block7_sepconv2_bn[0][0]         \n",
      "__________________________________________________________________________________________________\n",
      "block7_sepconv3 (SeparableConv2 (None, 19, 19, 728)  536536      block7_sepconv3_act[0][0]        \n",
      "__________________________________________________________________________________________________\n",
      "block7_sepconv3_bn (BatchNormal (None, 19, 19, 728)  2912        block7_sepconv3[0][0]            \n",
      "__________________________________________________________________________________________________\n",
      "add_6 (Add)                     (None, 19, 19, 728)  0           block7_sepconv3_bn[0][0]         \n",
      "                                                                 add_5[0][0]                      \n",
      "__________________________________________________________________________________________________\n",
      "block8_sepconv1_act (Activation (None, 19, 19, 728)  0           add_6[0][0]                      \n",
      "__________________________________________________________________________________________________\n",
      "block8_sepconv1 (SeparableConv2 (None, 19, 19, 728)  536536      block8_sepconv1_act[0][0]        \n",
      "__________________________________________________________________________________________________\n",
      "block8_sepconv1_bn (BatchNormal (None, 19, 19, 728)  2912        block8_sepconv1[0][0]            \n",
      "__________________________________________________________________________________________________\n",
      "block8_sepconv2_act (Activation (None, 19, 19, 728)  0           block8_sepconv1_bn[0][0]         \n",
      "__________________________________________________________________________________________________\n",
      "block8_sepconv2 (SeparableConv2 (None, 19, 19, 728)  536536      block8_sepconv2_act[0][0]        \n",
      "__________________________________________________________________________________________________\n",
      "block8_sepconv2_bn (BatchNormal (None, 19, 19, 728)  2912        block8_sepconv2[0][0]            \n",
      "__________________________________________________________________________________________________\n",
      "block8_sepconv3_act (Activation (None, 19, 19, 728)  0           block8_sepconv2_bn[0][0]         \n",
      "__________________________________________________________________________________________________\n",
      "block8_sepconv3 (SeparableConv2 (None, 19, 19, 728)  536536      block8_sepconv3_act[0][0]        \n",
      "__________________________________________________________________________________________________\n",
      "block8_sepconv3_bn (BatchNormal (None, 19, 19, 728)  2912        block8_sepconv3[0][0]            \n",
      "__________________________________________________________________________________________________\n",
      "add_7 (Add)                     (None, 19, 19, 728)  0           block8_sepconv3_bn[0][0]         \n",
      "                                                                 add_6[0][0]                      \n",
      "__________________________________________________________________________________________________\n",
      "block9_sepconv1_act (Activation (None, 19, 19, 728)  0           add_7[0][0]                      \n",
      "__________________________________________________________________________________________________\n",
      "block9_sepconv1 (SeparableConv2 (None, 19, 19, 728)  536536      block9_sepconv1_act[0][0]        \n",
      "__________________________________________________________________________________________________\n",
      "block9_sepconv1_bn (BatchNormal (None, 19, 19, 728)  2912        block9_sepconv1[0][0]            \n",
      "__________________________________________________________________________________________________\n",
      "block9_sepconv2_act (Activation (None, 19, 19, 728)  0           block9_sepconv1_bn[0][0]         \n",
      "__________________________________________________________________________________________________\n",
      "block9_sepconv2 (SeparableConv2 (None, 19, 19, 728)  536536      block9_sepconv2_act[0][0]        \n",
      "__________________________________________________________________________________________________\n",
      "block9_sepconv2_bn (BatchNormal (None, 19, 19, 728)  2912        block9_sepconv2[0][0]            \n",
      "__________________________________________________________________________________________________\n",
      "block9_sepconv3_act (Activation (None, 19, 19, 728)  0           block9_sepconv2_bn[0][0]         \n",
      "__________________________________________________________________________________________________\n",
      "block9_sepconv3 (SeparableConv2 (None, 19, 19, 728)  536536      block9_sepconv3_act[0][0]        \n",
      "__________________________________________________________________________________________________\n",
      "block9_sepconv3_bn (BatchNormal (None, 19, 19, 728)  2912        block9_sepconv3[0][0]            \n",
      "__________________________________________________________________________________________________\n",
      "add_8 (Add)                     (None, 19, 19, 728)  0           block9_sepconv3_bn[0][0]         \n",
      "                                                                 add_7[0][0]                      \n",
      "__________________________________________________________________________________________________\n",
      "block10_sepconv1_act (Activatio (None, 19, 19, 728)  0           add_8[0][0]                      \n",
      "__________________________________________________________________________________________________\n",
      "block10_sepconv1 (SeparableConv (None, 19, 19, 728)  536536      block10_sepconv1_act[0][0]       \n",
      "__________________________________________________________________________________________________\n",
      "block10_sepconv1_bn (BatchNorma (None, 19, 19, 728)  2912        block10_sepconv1[0][0]           \n",
      "__________________________________________________________________________________________________\n",
      "block10_sepconv2_act (Activatio (None, 19, 19, 728)  0           block10_sepconv1_bn[0][0]        \n",
      "__________________________________________________________________________________________________\n",
      "block10_sepconv2 (SeparableConv (None, 19, 19, 728)  536536      block10_sepconv2_act[0][0]       \n",
      "__________________________________________________________________________________________________\n",
      "block10_sepconv2_bn (BatchNorma (None, 19, 19, 728)  2912        block10_sepconv2[0][0]           \n",
      "__________________________________________________________________________________________________\n",
      "block10_sepconv3_act (Activatio (None, 19, 19, 728)  0           block10_sepconv2_bn[0][0]        \n",
      "__________________________________________________________________________________________________\n",
      "block10_sepconv3 (SeparableConv (None, 19, 19, 728)  536536      block10_sepconv3_act[0][0]       \n",
      "__________________________________________________________________________________________________\n",
      "block10_sepconv3_bn (BatchNorma (None, 19, 19, 728)  2912        block10_sepconv3[0][0]           \n",
      "__________________________________________________________________________________________________\n",
      "add_9 (Add)                     (None, 19, 19, 728)  0           block10_sepconv3_bn[0][0]        \n",
      "                                                                 add_8[0][0]                      \n",
      "__________________________________________________________________________________________________\n",
      "block11_sepconv1_act (Activatio (None, 19, 19, 728)  0           add_9[0][0]                      \n",
      "__________________________________________________________________________________________________\n",
      "block11_sepconv1 (SeparableConv (None, 19, 19, 728)  536536      block11_sepconv1_act[0][0]       \n",
      "__________________________________________________________________________________________________\n",
      "block11_sepconv1_bn (BatchNorma (None, 19, 19, 728)  2912        block11_sepconv1[0][0]           \n",
      "__________________________________________________________________________________________________\n",
      "block11_sepconv2_act (Activatio (None, 19, 19, 728)  0           block11_sepconv1_bn[0][0]        \n",
      "__________________________________________________________________________________________________\n",
      "block11_sepconv2 (SeparableConv (None, 19, 19, 728)  536536      block11_sepconv2_act[0][0]       \n",
      "__________________________________________________________________________________________________\n",
      "block11_sepconv2_bn (BatchNorma (None, 19, 19, 728)  2912        block11_sepconv2[0][0]           \n",
      "__________________________________________________________________________________________________\n",
      "block11_sepconv3_act (Activatio (None, 19, 19, 728)  0           block11_sepconv2_bn[0][0]        \n",
      "__________________________________________________________________________________________________\n",
      "block11_sepconv3 (SeparableConv (None, 19, 19, 728)  536536      block11_sepconv3_act[0][0]       \n",
      "__________________________________________________________________________________________________\n",
      "block11_sepconv3_bn (BatchNorma (None, 19, 19, 728)  2912        block11_sepconv3[0][0]           \n",
      "__________________________________________________________________________________________________\n",
      "add_10 (Add)                    (None, 19, 19, 728)  0           block11_sepconv3_bn[0][0]        \n",
      "                                                                 add_9[0][0]                      \n",
      "__________________________________________________________________________________________________\n",
      "block12_sepconv1_act (Activatio (None, 19, 19, 728)  0           add_10[0][0]                     \n",
      "__________________________________________________________________________________________________\n",
      "block12_sepconv1 (SeparableConv (None, 19, 19, 728)  536536      block12_sepconv1_act[0][0]       \n",
      "__________________________________________________________________________________________________\n",
      "block12_sepconv1_bn (BatchNorma (None, 19, 19, 728)  2912        block12_sepconv1[0][0]           \n",
      "__________________________________________________________________________________________________\n",
      "block12_sepconv2_act (Activatio (None, 19, 19, 728)  0           block12_sepconv1_bn[0][0]        \n",
      "__________________________________________________________________________________________________\n",
      "block12_sepconv2 (SeparableConv (None, 19, 19, 728)  536536      block12_sepconv2_act[0][0]       \n",
      "__________________________________________________________________________________________________\n",
      "block12_sepconv2_bn (BatchNorma (None, 19, 19, 728)  2912        block12_sepconv2[0][0]           \n",
      "__________________________________________________________________________________________________\n",
      "block12_sepconv3_act (Activatio (None, 19, 19, 728)  0           block12_sepconv2_bn[0][0]        \n",
      "__________________________________________________________________________________________________\n",
      "block12_sepconv3 (SeparableConv (None, 19, 19, 728)  536536      block12_sepconv3_act[0][0]       \n",
      "__________________________________________________________________________________________________\n",
      "block12_sepconv3_bn (BatchNorma (None, 19, 19, 728)  2912        block12_sepconv3[0][0]           \n",
      "__________________________________________________________________________________________________\n",
      "add_11 (Add)                    (None, 19, 19, 728)  0           block12_sepconv3_bn[0][0]        \n",
      "                                                                 add_10[0][0]                     \n",
      "__________________________________________________________________________________________________\n",
      "block13_sepconv1_act (Activatio (None, 19, 19, 728)  0           add_11[0][0]                     \n",
      "__________________________________________________________________________________________________\n",
      "block13_sepconv1 (SeparableConv (None, 19, 19, 728)  536536      block13_sepconv1_act[0][0]       \n",
      "__________________________________________________________________________________________________\n",
      "block13_sepconv1_bn (BatchNorma (None, 19, 19, 728)  2912        block13_sepconv1[0][0]           \n",
      "__________________________________________________________________________________________________\n",
      "block13_sepconv2_act (Activatio (None, 19, 19, 728)  0           block13_sepconv1_bn[0][0]        \n",
      "__________________________________________________________________________________________________\n",
      "block13_sepconv2 (SeparableConv (None, 19, 19, 1024) 752024      block13_sepconv2_act[0][0]       \n",
      "__________________________________________________________________________________________________\n",
      "block13_sepconv2_bn (BatchNorma (None, 19, 19, 1024) 4096        block13_sepconv2[0][0]           \n",
      "__________________________________________________________________________________________________\n",
      "conv2d_10 (Conv2D)              (None, 10, 10, 1024) 745472      add_11[0][0]                     \n",
      "__________________________________________________________________________________________________\n",
      "block13_pool (MaxPooling2D)     (None, 10, 10, 1024) 0           block13_sepconv2_bn[0][0]        \n",
      "__________________________________________________________________________________________________\n",
      "batch_normalization_6 (BatchNor (None, 10, 10, 1024) 4096        conv2d_10[0][0]                  \n",
      "__________________________________________________________________________________________________\n",
      "add_12 (Add)                    (None, 10, 10, 1024) 0           block13_pool[0][0]               \n",
      "                                                                 batch_normalization_6[0][0]      \n",
      "__________________________________________________________________________________________________\n",
      "block14_sepconv1 (SeparableConv (None, 10, 10, 1536) 1582080     add_12[0][0]                     \n",
      "__________________________________________________________________________________________________\n",
      "block14_sepconv1_bn (BatchNorma (None, 10, 10, 1536) 6144        block14_sepconv1[0][0]           \n",
      "__________________________________________________________________________________________________\n",
      "block14_sepconv1_act (Activatio (None, 10, 10, 1536) 0           block14_sepconv1_bn[0][0]        \n",
      "__________________________________________________________________________________________________\n",
      "block14_sepconv2 (SeparableConv (None, 10, 10, 2048) 3159552     block14_sepconv1_act[0][0]       \n",
      "__________________________________________________________________________________________________\n",
      "block14_sepconv2_bn (BatchNorma (None, 10, 10, 2048) 8192        block14_sepconv2[0][0]           \n",
      "__________________________________________________________________________________________________\n",
      "block14_sepconv2_act (Activatio (None, 10, 10, 2048) 0           block14_sepconv2_bn[0][0]        \n",
      "__________________________________________________________________________________________________\n",
      "global_average_pooling2d_3 (Glo (None, 2048)         0           block14_sepconv2_act[0][0]       \n",
      "==================================================================================================\n",
      "Total params: 20,861,480\n",
      "Trainable params: 20,806,952\n",
      "Non-trainable params: 54,528\n",
      "__________________________________________________________________________________________________\n"
     ]
    }
   ],
   "source": [
    "input_tensor = Input((img_size[0], img_size[1], 3))\n",
    "input_tensor = Lambda(xception.preprocess_input)(input_tensor)\n",
    "Xception_base = Xception(input_tensor = input_tensor, \n",
    "                             weights = 'imagenet', include_top = False)\n",
    "Xception_model = Model(Xception_base.input, GlobalAveragePooling2D()(Xception_base.output))\n",
    "Xception_model.summary()"
   ]
  },
  {
   "cell_type": "markdown",
   "metadata": {},
   "source": [
    "-   利用Xception训练特征向量"
   ]
  },
  {
   "cell_type": "code",
   "execution_count": 30,
   "metadata": {},
   "outputs": [
    {
     "name": "stdout",
     "output_type": "stream",
     "text": [
      "1563/1563 [==============================] - 180s 115ms/step\n",
      "782/782 [==============================] - 92s 117ms/step\n"
     ]
    }
   ],
   "source": [
    "X_train = Xception_model.predict_generator(X_train_gen, verbose=1)\n",
    "X_test = Xception_model.predict_generator(X_test_gen, verbose=1)"
   ]
  },
  {
   "cell_type": "markdown",
   "metadata": {},
   "source": [
    "-   保存特征权重"
   ]
  },
  {
   "cell_type": "code",
   "execution_count": 31,
   "metadata": {},
   "outputs": [],
   "source": [
    "with h5py.File('saved_models/weights.Xception.hdf5') as fp:\n",
    "        fp.create_dataset('train', data = X_train)\n",
    "        fp.create_dataset('test', data = X_test)\n",
    "        fp.create_dataset('label', data = X_train_gen.classes)"
   ]
  },
  {
   "cell_type": "markdown",
   "metadata": {},
   "source": [
    "-   导入我们刚刚训练好的特征向量"
   ]
  },
  {
   "cell_type": "code",
   "execution_count": 43,
   "metadata": {},
   "outputs": [],
   "source": [
    "X_train = []\n",
    "X_test = []\n",
    "with h5py.File('saved_models/weights.Xception.hdf5', 'r') as fp:\n",
    "    X_train.append(np.array(fp['train']))\n",
    "    X_test.append(np.array(fp['test']))\n",
    "    y_train = np.array(fp['label'])\n",
    "    \n",
    "X_train = np.concatenate(X_train, axis=1)\n",
    "X_test = np.concatenate(X_test, axis=1)\n",
    "X_train, y_train = shuffle(X_train, y_train)"
   ]
  },
  {
   "cell_type": "markdown",
   "metadata": {},
   "source": [
    "-   使用Xception训练好的特征向量构建模型"
   ]
  },
  {
   "cell_type": "code",
   "execution_count": 44,
   "metadata": {},
   "outputs": [
    {
     "name": "stdout",
     "output_type": "stream",
     "text": [
      "_________________________________________________________________\n",
      "Layer (type)                 Output Shape              Param #   \n",
      "=================================================================\n",
      "input_3 (InputLayer)         (None, 2048)              0         \n",
      "_________________________________________________________________\n",
      "dropout_2 (Dropout)          (None, 2048)              0         \n",
      "_________________________________________________________________\n",
      "dense_8 (Dense)              (None, 1)                 2049      \n",
      "=================================================================\n",
      "Total params: 2,049\n",
      "Trainable params: 2,049\n",
      "Non-trainable params: 0\n",
      "_________________________________________________________________\n"
     ]
    }
   ],
   "source": [
    "input_tensor = Input(X_train.shape[1:])\n",
    "Xception_model = Model(input_tensor, Dropout(0.5)(input_tensor))\n",
    "Xception_model = Model(Xception_model.input, Dense(1, activation = 'sigmoid')(Xception_model.output))\n",
    "Xception_model.summary()"
   ]
  },
  {
   "cell_type": "markdown",
   "metadata": {},
   "source": [
    "-   编译模型"
   ]
  },
  {
   "cell_type": "code",
   "execution_count": 45,
   "metadata": {},
   "outputs": [],
   "source": [
    "Xception_model.compile(optimizer='adadelta', loss='binary_crossentropy', metrics=['accuracy'])"
   ]
  },
  {
   "cell_type": "markdown",
   "metadata": {},
   "source": [
    "-   使用Xception训练模型"
   ]
  },
  {
   "cell_type": "code",
   "execution_count": 46,
   "metadata": {},
   "outputs": [
    {
     "name": "stdout",
     "output_type": "stream",
     "text": [
      "Train on 17498 samples, validate on 7500 samples\n",
      "Epoch 1/10\n",
      "17498/17498 [==============================] - 1s 61us/step - loss: 0.1492 - acc: 0.9771 - val_loss: 0.0503 - val_acc: 0.9927\n",
      "\n",
      "Epoch 00001: val_loss improved from inf to 0.05033, saving model to saved_models/weights.best.Xception.hdf5\n",
      "Epoch 2/10\n",
      "17498/17498 [==============================] - 0s 29us/step - loss: 0.0420 - acc: 0.9912 - val_loss: 0.0284 - val_acc: 0.9933\n",
      "\n",
      "Epoch 00002: val_loss improved from 0.05033 to 0.02835, saving model to saved_models/weights.best.Xception.hdf5\n",
      "Epoch 3/10\n",
      "17498/17498 [==============================] - 1s 29us/step - loss: 0.0294 - acc: 0.9924 - val_loss: 0.0229 - val_acc: 0.9940\n",
      "\n",
      "Epoch 00003: val_loss improved from 0.02835 to 0.02288, saving model to saved_models/weights.best.Xception.hdf5\n",
      "Epoch 4/10\n",
      "17498/17498 [==============================] - 0s 28us/step - loss: 0.0255 - acc: 0.9929 - val_loss: 0.0208 - val_acc: 0.9947\n",
      "\n",
      "Epoch 00004: val_loss improved from 0.02288 to 0.02079, saving model to saved_models/weights.best.Xception.hdf5\n",
      "Epoch 5/10\n",
      "17498/17498 [==============================] - 1s 29us/step - loss: 0.0235 - acc: 0.9930 - val_loss: 0.0196 - val_acc: 0.9951\n",
      "\n",
      "Epoch 00005: val_loss improved from 0.02079 to 0.01964, saving model to saved_models/weights.best.Xception.hdf5\n",
      "Epoch 6/10\n",
      "17498/17498 [==============================] - 1s 29us/step - loss: 0.0218 - acc: 0.9933 - val_loss: 0.0196 - val_acc: 0.9944\n",
      "\n",
      "Epoch 00006: val_loss did not improve from 0.01964\n",
      "Epoch 7/10\n",
      "17498/17498 [==============================] - 1s 29us/step - loss: 0.0208 - acc: 0.9933 - val_loss: 0.0186 - val_acc: 0.9948\n",
      "\n",
      "Epoch 00007: val_loss improved from 0.01964 to 0.01858, saving model to saved_models/weights.best.Xception.hdf5\n",
      "Epoch 8/10\n",
      "17498/17498 [==============================] - 0s 28us/step - loss: 0.0201 - acc: 0.9939 - val_loss: 0.0182 - val_acc: 0.9948\n",
      "\n",
      "Epoch 00008: val_loss improved from 0.01858 to 0.01816, saving model to saved_models/weights.best.Xception.hdf5\n",
      "Epoch 9/10\n",
      "17498/17498 [==============================] - 1s 29us/step - loss: 0.0189 - acc: 0.9938 - val_loss: 0.0180 - val_acc: 0.9951\n",
      "\n",
      "Epoch 00009: val_loss improved from 0.01816 to 0.01800, saving model to saved_models/weights.best.Xception.hdf5\n",
      "Epoch 10/10\n",
      "17498/17498 [==============================] - 0s 28us/step - loss: 0.0181 - acc: 0.9935 - val_loss: 0.0178 - val_acc: 0.9948\n",
      "\n",
      "Epoch 00010: val_loss improved from 0.01800 to 0.01782, saving model to saved_models/weights.best.Xception.hdf5\n"
     ]
    }
   ],
   "source": [
    "epochs = 10\n",
    "batch_size = 128\n",
    "checkpointer = ModelCheckpoint(filepath='saved_models/weights.best.Xception.hdf5', \n",
    "                                   verbose=1, save_best_only=True)\n",
    "hist_Xception = Xception_model.fit(X_train, y_train, validation_split = 0.3,\n",
    "                    epochs = epochs, batch_size = batch_size, verbose=1,\n",
    "                    callbacks=[checkpointer])"
   ]
  },
  {
   "cell_type": "markdown",
   "metadata": {},
   "source": [
    "-   学习曲线"
   ]
  },
  {
   "cell_type": "code",
   "execution_count": 52,
   "metadata": {},
   "outputs": [
    {
     "data": {
      "image/png": "[encoded data removed]",
      "text/plain": [
       "<Figure size 432x288 with 1 Axes>"
      ]
     },
     "metadata": {},
     "output_type": "display_data"
    }
   ],
   "source": [
    "# val_loss学习曲线\n",
    "plt.plot(hist_Xception.history['val_loss'])\n",
    "plt.xlabel('Times')\n",
    "plt.ylabel('Val_Loss')\n",
    "plt.show()"
   ]
  },
  {
   "cell_type": "markdown",
   "metadata": {},
   "source": [
    "-   可以发现, 使用Xception比直接使用CNN的表现要好很多.\n",
    "###   尝试往kaggle上提交\n",
    "\n",
    "\n",
    "-   对测试集进行预测"
   ]
  },
  {
   "cell_type": "code",
   "execution_count": 41,
   "metadata": {},
   "outputs": [],
   "source": [
    "y_test = Xception_model.predict(X_test)\n",
    "y_test = y_test.clip(min = 0.005, max = 0.995)"
   ]
  },
  {
   "cell_type": "markdown",
   "metadata": {},
   "source": [
    "-   保存数据"
   ]
  },
  {
   "cell_type": "code",
   "execution_count": 42,
   "metadata": {},
   "outputs": [
    {
     "name": "stderr",
     "output_type": "stream",
     "text": [
      "/usr/local/lib/python3.5/dist-packages/ipykernel_launcher.py:4: FutureWarning: set_value is deprecated and will be removed in a future release. Please use .at[] or .iat[] accessors instead\n",
      "  after removing the cwd from sys.path.\n"
     ]
    }
   ],
   "source": [
    "num = [ int(re.sub('.jpg', '', re.sub('.*\\/', '', f))) for f in X_test_gen.filenames ]\n",
    "df = pd.read_csv(RESULT_SAMP)\n",
    "for i in range(len(num)):\n",
    "    df.set_value(num[i] - 1, 'label', y_test[i])\n",
    "df.to_csv(RESULT_FILE, index=None)"
   ]
  },
  {
   "cell_type": "code",
   "execution_count": null,
   "metadata": {},
   "outputs": [],
   "source": []
  }
 ],
 "metadata": {
  "kernelspec": {
   "display_name": "Python 3",
   "language": "python",
   "name": "python3"
  },
  "language_info": {
   "codemirror_mode": {
    "name": "ipython",
    "version": 3
   },
   "file_extension": ".py",
   "mimetype": "text/x-python",
   "name": "python",
   "nbconvert_exporter": "python",
   "pygments_lexer": "ipython3",
   "version": "3.5.2"
  }
 },
 "nbformat": 4,
 "nbformat_minor": 2
}
